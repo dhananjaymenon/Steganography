{
 "cells": [
  {
   "cell_type": "markdown",
   "id": "f9f7bc88-c20b-4991-a5e9-cb1ad7573eb6",
   "metadata": {},
   "source": [
    "# Steganography Demo\n",
    "----------------"
   ]
  },
  {
   "cell_type": "markdown",
   "id": "893afe46",
   "metadata": {},
   "source": [
    "## Text Encoder and Decoder\n",
    "-------------\n",
    "### Text Encoder"
   ]
  },
  {
   "cell_type": "code",
   "execution_count": 1,
   "id": "200e8aa2",
   "metadata": {},
   "outputs": [
    {
     "name": "stdout",
     "output_type": "stream",
     "text": [
      "message encoded to text successfully and saved at encoded_output/sample_encoded_text.txt\n"
     ]
    }
   ],
   "source": [
    "# encoding media in a text file\n",
    "carrier_file = \"media/text.txt\"\n",
    "\n",
    "secret_file = \"sample/sample.png\"\n",
    "\n",
    "output_path = \"encoded_output/sample_encoded_text.txt\"\n",
    "\n",
    "%run encoder --secret \"{secret_file}\" --carrier \"{carrier_file}\" --output \"{output_path}\""
   ]
  },
  {
   "cell_type": "markdown",
   "id": "f9791476",
   "metadata": {},
   "source": [
    "### Text Decoder"
   ]
  },
  {
   "cell_type": "code",
   "execution_count": 2,
   "id": "11492231",
   "metadata": {},
   "outputs": [
    {
     "name": "stdout",
     "output_type": "stream",
     "text": [
      "message decoded and saved at decoded_output/sample_encoded_text_decoded.png\n"
     ]
    }
   ],
   "source": [
    "# decoding a text file\n",
    "encoded_file = \"encoded_output/sample_encoded_text.txt\"\n",
    "\n",
    "output_path = \"decoded_output\"\n",
    "\n",
    "%run decoder --encoded \"{encoded_file}\" --decoded \"{output_path}\""
   ]
  },
  {
   "cell_type": "markdown",
   "id": "88fe38f9",
   "metadata": {},
   "source": [
    "## Audio Encoder and Decoder\n",
    "-----------\n",
    "### Audio Encoder"
   ]
  },
  {
   "cell_type": "code",
   "execution_count": 3,
   "id": "142d296c-975b-4260-8ed2-981bef9a73dd",
   "metadata": {},
   "outputs": [
    {
     "name": "stdout",
     "output_type": "stream",
     "text": [
      "message encoded to audio successfully and saved at encoded_output/sample_encoded_audio.wav\n"
     ]
    }
   ],
   "source": [
    "# encoding media in a text file\n",
    "carrier_file = \"media/audio.wav\"\n",
    "\n",
    "secret_file = \"sample/sample.png\"\n",
    "\n",
    "output_path = \"encoded_output/sample_encoded_audio.wav\"\n",
    "\n",
    "%run encoder --secret \"{secret_file}\" --carrier \"{carrier_file}\" --output \"{output_path}\""
   ]
  },
  {
   "cell_type": "markdown",
   "id": "35a17e24",
   "metadata": {},
   "source": [
    "### Audio Decoder"
   ]
  },
  {
   "cell_type": "code",
   "execution_count": 4,
   "id": "a88c5686-a088-47a9-9f78-23e5087c5f1e",
   "metadata": {},
   "outputs": [
    {
     "name": "stdout",
     "output_type": "stream",
     "text": [
      "message decoded and saved at decoded_output/sample_encoded_audio_decoded.png\n"
     ]
    }
   ],
   "source": [
    "# decoding a text file\n",
    "encoded_file = \"encoded_output/sample_encoded_audio.wav\"\n",
    "\n",
    "output_path = \"decoded_output\"\n",
    "\n",
    "%run decoder --encoded \"{encoded_file}\" --decoded \"{output_path}\""
   ]
  },
  {
   "cell_type": "markdown",
   "id": "0d5a33ff",
   "metadata": {},
   "source": [
    "## Image Encoder and Decoder\n",
    "------------\n",
    "### Image Encoder"
   ]
  },
  {
   "cell_type": "code",
   "execution_count": 5,
   "id": "c9c9af7d",
   "metadata": {},
   "outputs": [
    {
     "name": "stdout",
     "output_type": "stream",
     "text": [
      "message encoded to image successfully and saved at encoded_output/sample_encoded_picture.png\n"
     ]
    }
   ],
   "source": [
    "# encoding media in a text file\n",
    "carrier_file = \"media/picture.png\"\n",
    "\n",
    "secret_file = \"sample/sample.png\"\n",
    "\n",
    "output_path = \"encoded_output/sample_encoded_picture.png\"\n",
    "\n",
    "%run encoder --secret \"{secret_file}\" --carrier \"{carrier_file}\" --output \"{output_path}\""
   ]
  },
  {
   "cell_type": "markdown",
   "id": "87f761e0",
   "metadata": {},
   "source": [
    "### Image Decoder"
   ]
  },
  {
   "cell_type": "code",
   "execution_count": 6,
   "id": "c3b0465a",
   "metadata": {},
   "outputs": [
    {
     "name": "stdout",
     "output_type": "stream",
     "text": [
      "message decoded and saved at decoded_output/sample_encoded_picture_decoded.png\n"
     ]
    }
   ],
   "source": [
    "# decoding a text file\n",
    "encoded_file = \"encoded_output/sample_encoded_picture.png\"\n",
    "\n",
    "output_path = \"decoded_output\"\n",
    "\n",
    "%run decoder --encoded \"{encoded_file}\" --decoded \"{output_path}\""
   ]
  },
  {
   "cell_type": "markdown",
   "id": "c5f62074",
   "metadata": {},
   "source": [
    "## Video Encoder and Decoder\n",
    "-----------\n",
    "### Video Encoder"
   ]
  },
  {
   "cell_type": "code",
   "execution_count": 7,
   "id": "10742cc7",
   "metadata": {},
   "outputs": [
    {
     "name": "stdout",
     "output_type": "stream",
     "text": [
      "Converting video to frames...\n",
      "Frame extraction complete!\n",
      "Encoding 1 of 563 frames...\n",
      "Encoding binary message in frames...\n",
      "Converting frames to video...\n",
      "Moviepy - Building video encoded_output/sample_encoded_video.mov.\n",
      "MoviePy - Writing audio in sample_encoded_videoTEMP_MPY_wvf_snd.mp4\n"
     ]
    },
    {
     "name": "stderr",
     "output_type": "stream",
     "text": [
      "                                                                   \r"
     ]
    },
    {
     "name": "stdout",
     "output_type": "stream",
     "text": [
      "MoviePy - Done.\n",
      "Moviepy - Writing video encoded_output/sample_encoded_video.mov\n",
      "\n"
     ]
    },
    {
     "name": "stderr",
     "output_type": "stream",
     "text": [
      "                                                              \r"
     ]
    },
    {
     "name": "stdout",
     "output_type": "stream",
     "text": [
      "Moviepy - Done !\n",
      "Moviepy - video ready encoded_output/sample_encoded_video.mov\n",
      "Video with sound generation complete!\n",
      "message encoded to video successfully and saved at encoded_output/sample_encoded_video.mov\n"
     ]
    }
   ],
   "source": [
    "# encoding media in a text file\n",
    "carrier_file = \"media/video.mov\"\n",
    "\n",
    "secret_file = \"sample/sample.png\"\n",
    "\n",
    "output_path = \"encoded_output/sample_encoded_video.mov\"\n",
    "\n",
    "%run encoder --secret \"{secret_file}\" --carrier \"{carrier_file}\" --output \"{output_path}\""
   ]
  },
  {
   "cell_type": "markdown",
   "id": "a02968b4",
   "metadata": {},
   "source": [
    "### Video Decoder"
   ]
  },
  {
   "cell_type": "code",
   "execution_count": 8,
   "id": "7accd16e",
   "metadata": {},
   "outputs": [
    {
     "name": "stdout",
     "output_type": "stream",
     "text": [
      "Converting video to frames...\n",
      "Frame extraction complete!\n",
      "Decoding 1 frames...\n",
      "message decoded and saved at decoded_output/sample_encoded_video_decoded.png\n"
     ]
    }
   ],
   "source": [
    "# decoding a text file\n",
    "encoded_file = \"encoded_output/sample_encoded_video.mov\"\n",
    "\n",
    "output_path = \"decoded_output\"\n",
    "\n",
    "%run decoder --encoded \"{encoded_file}\" --decoded \"{output_path}\""
   ]
  }
 ],
 "metadata": {
  "kernelspec": {
   "display_name": "Python 3 (ipykernel)",
   "language": "python",
   "name": "python3"
  },
  "language_info": {
   "codemirror_mode": {
    "name": "ipython",
    "version": 3
   },
   "file_extension": ".py",
   "mimetype": "text/x-python",
   "name": "python",
   "nbconvert_exporter": "python",
   "pygments_lexer": "ipython3",
   "version": "3.10.9"
  }
 },
 "nbformat": 4,
 "nbformat_minor": 5
}
